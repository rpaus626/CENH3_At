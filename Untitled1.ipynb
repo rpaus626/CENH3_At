{
 "cells": [
  {
   "cell_type": "code",
   "execution_count": 2,
   "id": "7b8341a4-8736-4263-ad8c-5a1b583ba430",
   "metadata": {},
   "outputs": [],
   "source": [
    "import numpy as np\n",
    "from scipy.ndimage import convolve\n",
    "import tifffile"
   ]
  },
  {
   "cell_type": "code",
   "execution_count": 3,
   "id": "8fc68d24-e417-4175-a136-7a9d67212d3e",
   "metadata": {},
   "outputs": [],
   "source": [
    "def make_3d_edges(segmentation):\n",
    "    \"\"\" Make 3d edge volume from 3d segmentation\n",
    "    \"\"\"\n",
    "    # NOTE we add one here to make sure that we don't have zero in the segmentation\n",
    "    gz = convolve(segmentation + 1, np.array([-1., 0., 1.]).reshape(3, 1, 1))\n",
    "    gy = convolve(segmentation + 1, np.array([-1., 0., 1.]).reshape(1, 3, 1))\n",
    "    gx = convolve(segmentation + 1, np.array([-1., 0., 1.]).reshape(1, 1, 3))\n",
    "    return ((gx ** 2 + gy ** 2 + gz ** 2) > 0)"
   ]
  },
  {
   "cell_type": "code",
   "execution_count": 4,
   "id": "7565ee4d-e4fe-402b-b398-48be0ab2fc01",
   "metadata": {},
   "outputs": [],
   "source": [
    "img = np.load('/biodata/dep_coupland/grp_formosa/rpaus/Day 5 Leaves CENH3/Day5_Leaf_CENH3_02_1024x1024_40x_N11_Channel=0-data_Object Predictions.npy')"
   ]
  },
  {
   "cell_type": "code",
   "execution_count": 6,
   "id": "91b69abc-cc94-4849-8bf2-94d6aca0a5f8",
   "metadata": {},
   "outputs": [
    {
     "data": {
      "text/plain": [
       "(1, 268, 1024, 1024, 1)"
      ]
     },
     "execution_count": 6,
     "metadata": {},
     "output_type": "execute_result"
    }
   ],
   "source": [
    "np.shape(img)"
   ]
  },
  {
   "cell_type": "code",
   "execution_count": null,
   "id": "9cf8f11e-9f7a-410b-b4ea-eb661755938d",
   "metadata": {},
   "outputs": [],
   "source": []
  }
 ],
 "metadata": {
  "kernelspec": {
   "display_name": "Python 3 (ipykernel)",
   "language": "python",
   "name": "python3"
  },
  "language_info": {
   "codemirror_mode": {
    "name": "ipython",
    "version": 3
   },
   "file_extension": ".py",
   "mimetype": "text/x-python",
   "name": "python",
   "nbconvert_exporter": "python",
   "pygments_lexer": "ipython3",
   "version": "3.11.4"
  }
 },
 "nbformat": 4,
 "nbformat_minor": 5
}
